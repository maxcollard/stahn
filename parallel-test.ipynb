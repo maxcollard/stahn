{
 "cells": [
  {
   "cell_type": "code",
   "execution_count": 3,
   "metadata": {},
   "outputs": [],
   "source": [
    "import concurrent.futures\n",
    "import time\n",
    "\n",
    "import numpy as np"
   ]
  },
  {
   "cell_type": "code",
   "execution_count": 12,
   "metadata": {},
   "outputs": [],
   "source": [
    "q = 20."
   ]
  },
  {
   "cell_type": "code",
   "execution_count": 13,
   "metadata": {},
   "outputs": [],
   "source": [
    "def procedure( j ):\n",
    "    sleep_time = np.random.randint( 10 )\n",
    "    time.sleep( sleep_time )\n",
    "    return j + q, sleep_time"
   ]
  },
  {
   "cell_type": "code",
   "execution_count": 14,
   "metadata": {},
   "outputs": [],
   "source": [
    "run_input = []\n",
    "run_sleep_time = []\n",
    "\n",
    "start = time.time()\n",
    "with concurrent.futures.ProcessPoolExecutor() as executor:\n",
    "    for cur_input, cur_sleep_time in executor.map( procedure, range( 20 ) ):\n",
    "        run_input.append( cur_input )\n",
    "        run_sleep_time.append( cur_sleep_time )\n",
    "end = time.time()"
   ]
  },
  {
   "cell_type": "code",
   "execution_count": 15,
   "metadata": {},
   "outputs": [
    {
     "name": "stdout",
     "output_type": "stream",
     "text": [
      "Inputs: [20.0, 21.0, 22.0, 23.0, 24.0, 25.0, 26.0, 27.0, 28.0, 29.0, 30.0, 31.0, 32.0, 33.0, 34.0, 35.0, 36.0, 37.0, 38.0, 39.0]\n",
      "Total execution time: 84.000\n",
      "Total wall time: 13.065\n",
      "Time saved: 70.935\n"
     ]
    }
   ],
   "source": [
    "print( 'Inputs: {0}'.format( run_input ) )\n",
    "print( 'Total execution time: {0:0.3f}'.format( sum( run_sleep_time ) ) )\n",
    "print( 'Total wall time: {0:0.3f}'.format( end - start ) )\n",
    "print( 'Time saved: {0:0.3f}'.format( sum( run_sleep_time ) - (end - start) ) )"
   ]
  },
  {
   "cell_type": "code",
   "execution_count": null,
   "metadata": {},
   "outputs": [],
   "source": []
  }
 ],
 "metadata": {
  "kernelspec": {
   "display_name": "Python 3.5",
   "language": "python",
   "name": "python3"
  },
  "language_info": {
   "codemirror_mode": {
    "name": "ipython",
    "version": 3
   },
   "file_extension": ".py",
   "mimetype": "text/x-python",
   "name": "python",
   "nbconvert_exporter": "python",
   "pygments_lexer": "ipython3",
   "version": "3.5.6"
  }
 },
 "nbformat": 4,
 "nbformat_minor": 4
}
