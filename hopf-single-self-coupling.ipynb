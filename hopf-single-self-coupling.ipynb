{
 "cells": [
  {
   "cell_type": "markdown",
   "metadata": {},
   "source": [
    "## Single oscillator, self-coupling\n",
    "\n",
    "Equations:\n",
    "\n",
    "$$\n",
    "\\begin{eqnarray*}\n",
    "    \\dot{z} & = & z((\\lambda + \\mathrm{i}) + b|z|^2) + W \\mathrm{Re}(z) \\\\\n",
    "    \\dot{W} & = & \\alpha ( 1 - \\mathrm{Re}(z)^2 )\n",
    "\\end{eqnarray*}\n",
    "$$"
   ]
  },
  {
   "cell_type": "code",
   "execution_count": 23,
   "metadata": {},
   "outputs": [],
   "source": [
    "import numpy as np\n",
    "import scipy.integrate\n",
    "import matplotlib.pyplot as plt"
   ]
  },
  {
   "cell_type": "code",
   "execution_count": 316,
   "metadata": {},
   "outputs": [],
   "source": [
    "# l = 0.1\n",
    "l = 4.0\n",
    "# b = -0.1 + 0.1j\n",
    "b = -0.1 + 0.2j\n",
    "\n",
    "alpha = 0.1"
   ]
  },
  {
   "cell_type": "code",
   "execution_count": 317,
   "metadata": {},
   "outputs": [],
   "source": [
    "def deriv( t, y ):\n",
    "    z = y[0]\n",
    "    W = y[1]\n",
    "    \n",
    "    z_dot = z * ( ( l + 1.j ) + b * z * np.conj( z ) ) + W * np.real( z )\n",
    "    if t >= 100. and t < 200.:\n",
    "        z_dot += 100. * np.cos( t )\n",
    "    if t >= 300. and t < 400.:\n",
    "        z_dot += 100. * np.cos( t )\n",
    "    if t >= 500. and t < 600.:\n",
    "        z_dot += 100. * np.cos( t )\n",
    "    \n",
    "    W_dot = alpha * (1. - np.power( np.real( z ), 2. ))\n",
    "    \n",
    "    y_dot = np.zeros( (2,), dtype = np.complex )\n",
    "    y_dot[0] = z_dot\n",
    "    y_dot[1] = W_dot\n",
    "    return y_dot"
   ]
  },
  {
   "cell_type": "code",
   "execution_count": 318,
   "metadata": {},
   "outputs": [],
   "source": [
    "t_span = [0, 5e3]\n",
    "t_eval = np.arange( t_span[0], t_span[-1], 1e-2 )"
   ]
  },
  {
   "cell_type": "code",
   "execution_count": 319,
   "metadata": {},
   "outputs": [],
   "source": [
    "z0 = 0.1 + 0.j\n",
    "W0 = np.random.randn()\n",
    "\n",
    "y0 = np.zeros( (2,), dtype = np.complex )\n",
    "y0[0] = z0\n",
    "y0[1] = W0"
   ]
  },
  {
   "cell_type": "code",
   "execution_count": 320,
   "metadata": {},
   "outputs": [],
   "source": [
    "sol = scipy.integrate.solve_ivp( deriv, t_span, y0,\n",
    "                                 t_eval = t_eval )"
   ]
  },
  {
   "cell_type": "code",
   "execution_count": 321,
   "metadata": {},
   "outputs": [],
   "source": [
    "t_star = sol.t\n",
    "y_star = sol.y\n",
    "\n",
    "z_star = y_star[0, :]\n",
    "W_star = y_star[1, :]"
   ]
  },
  {
   "cell_type": "code",
   "execution_count": 333,
   "metadata": {},
   "outputs": [
    {
     "data": {
      "text/plain": [
       "[<matplotlib.lines.Line2D at 0x122ca04a8>]"
      ]
     },
     "execution_count": 333,
     "metadata": {},
     "output_type": "execute_result"
    },
    {
     "data": {
      "image/png": "[encoded data removed]",
      "text/plain": [
       "<Figure size 864x432 with 2 Axes>"
      ]
     },
     "metadata": {
      "needs_background": "light"
     },
     "output_type": "display_data"
    }
   ],
   "source": [
    "fig, axs = plt.subplots( 2, 1, figsize = (12, 6) )\n",
    "axs[0].plot( t_star, np.real( z_star ), 'k-' )\n",
    "# axs[0].set_xlim( 190, 210 )\n",
    "# axs[0].set_ylim( 0.8, 1 )\n",
    "axs[1].plot( t_star, np.real( W_star ) )\n",
    "# axs[1].set_xlim( 190, 210 )\n",
    "# axs[1].set_ylim( -44.8, -44.6 )"
   ]
  },
  {
   "cell_type": "code",
   "execution_count": 323,
   "metadata": {},
   "outputs": [
    {
     "data": {
      "text/plain": [
       "[<matplotlib.lines.Line2D at 0x124178a20>]"
      ]
     },
     "execution_count": 323,
     "metadata": {},
     "output_type": "execute_result"
    },
    {
     "data": {
      "image/png": "[encoded data removed]",
      "text/plain": [
       "<Figure size 432x288 with 1 Axes>"
      ]
     },
     "metadata": {
      "needs_background": "light"
     },
     "output_type": "display_data"
    }
   ],
   "source": [
    "plt.plot( t_star, np.real( W_star ) )\n",
    "# plt.xlim( 0, 100 )\n",
    "# plt.ylim( 2.2, 2.3 )"
   ]
  },
  {
   "cell_type": "code",
   "execution_count": null,
   "metadata": {},
   "outputs": [],
   "source": []
  },
  {
   "cell_type": "code",
   "execution_count": null,
   "metadata": {},
   "outputs": [],
   "source": []
  }
 ],
 "metadata": {
  "kernelspec": {
   "display_name": "Python 3",
   "language": "python",
   "name": "python3"
  },
  "language_info": {
   "codemirror_mode": {
    "name": "ipython",
    "version": 3
   },
   "file_extension": ".py",
   "mimetype": "text/x-python",
   "name": "python",
   "nbconvert_exporter": "python",
   "pygments_lexer": "ipython3",
   "version": "3.7.1"
  }
 },
 "nbformat": 4,
 "nbformat_minor": 2
}
