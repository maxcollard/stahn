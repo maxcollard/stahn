{
 "cells": [
  {
   "cell_type": "markdown",
   "metadata": {},
   "source": [
    "Trying out\n",
    "\n",
    "$$\n",
    "\\begin{eqnarray*}\n",
    "    \\dot{x} & = & W x \\\\\n",
    "    \\dot{a} & = & r_U \\left( \\frac{1}{N_a} \\mathbf{1}_{N_a} - I_{N_a} \\right)a + V x \\\\\n",
    "    \\dot{W} & = & \\alpha \\left( I_{N_x} - x x^T \\right) + \\beta \\sum_k S^{(k)} a_k\n",
    "\\end{eqnarray*}\n",
    "$$\n",
    "\n",
    "where\n",
    "\n",
    "$$ V_{ij} = -\\ell_{ij} r_V $$\n",
    "\n",
    "where $\\ell_{ij}$ denotes the number of times neuron $j$ is presynaptic for a connection owned by astrocyte $i$, and $S^{(k)}_ij = 1$ if synapse $j \\to i$ is owned by astrocyte $k$."
   ]
  },
  {
   "cell_type": "code",
   "execution_count": 1,
   "metadata": {},
   "outputs": [],
   "source": [
    "import numpy as np\n",
    "import scipy.integrate\n",
    "\n",
    "import matplotlib.pyplot as plt"
   ]
  },
  {
   "cell_type": "code",
   "execution_count": 27,
   "metadata": {},
   "outputs": [],
   "source": [
    "Nx = 20\n",
    "Na = 20\n",
    "alpha = 0.1\n",
    "\n",
    "ru = 0.001\n",
    "rv = 0.25\n",
    "beta = 0.01"
   ]
  },
  {
   "cell_type": "code",
   "execution_count": 28,
   "metadata": {},
   "outputs": [],
   "source": [
    "U = ru * ( - np.eye( Na ) + (1 / Na) * np.ones( (Na, Na) ) )"
   ]
  },
  {
   "cell_type": "code",
   "execution_count": 29,
   "metadata": {},
   "outputs": [],
   "source": [
    "synapses = []\n",
    "for i in range( Nx ):\n",
    "    for j in range( Nx ):\n",
    "        if i != j:\n",
    "            synapses.append( (i, j) )"
   ]
  },
  {
   "cell_type": "code",
   "execution_count": 30,
   "metadata": {},
   "outputs": [],
   "source": [
    "synapse_astrocytes = np.random.randint( Na, size = (len( synapses ),) )"
   ]
  },
  {
   "cell_type": "code",
   "execution_count": 31,
   "metadata": {},
   "outputs": [],
   "source": [
    "astrocyte_synapses = [ [] for x in range( Na ) ]\n",
    "for s, a in zip( synapses, synapse_astrocytes ):\n",
    "    astrocyte_synapses[a].append( s )"
   ]
  },
  {
   "cell_type": "code",
   "execution_count": 32,
   "metadata": {},
   "outputs": [],
   "source": [
    "astrocyte_presynaptic = [ [] for x in range( Na ) ]\n",
    "for s, a in zip( synapses, synapse_astrocytes ):\n",
    "    astrocyte_presynaptic[a].append( s[1] )\n",
    "\n",
    "# for i in range( Na ):\n",
    "#     astrocyte_presynaptic[i] = list( set( astrocyte_presynaptic[i] ) )"
   ]
  },
  {
   "cell_type": "code",
   "execution_count": 33,
   "metadata": {},
   "outputs": [],
   "source": [
    "Wk = [ None for x in range( Na ) ]\n",
    "for a, ss in enumerate( astrocyte_synapses ):\n",
    "    cur_Wk = np.zeros( (Nx, Nx) )\n",
    "    for s in ss:\n",
    "        cur_Wk[s[0], s[1]] = 1.\n",
    "    Wk[a] = cur_Wk"
   ]
  },
  {
   "cell_type": "code",
   "execution_count": 34,
   "metadata": {},
   "outputs": [],
   "source": [
    "V = np.zeros( (Na, Nx) )\n",
    "\n",
    "for a in range( Na ):\n",
    "    for ps in astrocyte_presynaptic[a]:\n",
    "        V[a, ps] -= rv"
   ]
  },
  {
   "cell_type": "code",
   "execution_count": 35,
   "metadata": {},
   "outputs": [],
   "source": [
    "def deriv( t, y ):\n",
    "    \n",
    "    x = y[:Nx]\n",
    "    a = y[Nx:(Nx+Na)]\n",
    "    W = np.reshape( y[(Nx+Na):], (Nx, Nx) )\n",
    "    \n",
    "    x_dot = np.matmul( W, x )\n",
    "    a_dot = np.matmul( U, a ) + np.matmul( V, x )\n",
    "    \n",
    "    W_dot_a = np.zeros( W.shape )\n",
    "    for k in range( Na ):\n",
    "        W_dot_a += Wk[k] * a[k]\n",
    "    W_dot = alpha * ( np.eye( Nx ) - np.outer( x, x ) ) + beta * W_dot_a\n",
    "    \n",
    "    y_dot = np.zeros( y.shape[0] )\n",
    "    y_dot[:Nx] = x_dot\n",
    "    y_dot[Nx:(Nx+Na)] = a_dot\n",
    "    y_dot[(Nx+Na):] = W_dot.flatten()\n",
    "    \n",
    "    return y_dot"
   ]
  },
  {
   "cell_type": "code",
   "execution_count": 36,
   "metadata": {},
   "outputs": [],
   "source": [
    "t_span = [0, 3e3]\n",
    "t_eval = np.arange( t_span[0], t_span[-1], 5e-2 )"
   ]
  },
  {
   "cell_type": "code",
   "execution_count": 37,
   "metadata": {},
   "outputs": [],
   "source": [
    "x0 = np.random.randn( Nx )\n",
    "a0 = np.random.randn( Na )\n",
    "W0 = np.random.randn( Nx, Nx )\n",
    "\n",
    "y0 = np.zeros( (Nx + Na + Nx*Nx,) )\n",
    "y0[:Nx] = x0\n",
    "y0[Nx:(Nx+Na)] = a0\n",
    "y0[(Nx+Na):] = W0.flatten()"
   ]
  },
  {
   "cell_type": "code",
   "execution_count": null,
   "metadata": {},
   "outputs": [],
   "source": [
    "sol = scipy.integrate.solve_ivp( deriv, t_span, y0 )"
   ]
  },
  {
   "cell_type": "code",
   "execution_count": null,
   "metadata": {},
   "outputs": [],
   "source": [
    "t_star = sol.t\n",
    "y_star = sol.y\n",
    "\n",
    "x_star = y_star[:Nx, :]\n",
    "a_star = y_star[Nx:(Nx+Na), :]\n",
    "W_star = np.reshape( y_star[(Nx+Na):, :], (Nx, Nx, y_star.shape[1]) )"
   ]
  },
  {
   "cell_type": "code",
   "execution_count": null,
   "metadata": {},
   "outputs": [],
   "source": [
    "plt.figure( figsize = (12, 5 ) )\n",
    "plt.plot( t_star, x_star.T )\n",
    "plt.show()"
   ]
  },
  {
   "cell_type": "code",
   "execution_count": null,
   "metadata": {},
   "outputs": [],
   "source": [
    "plt.figure( figsize = (24, 5) )\n",
    "plt.imshow( x_star, aspect = 'auto', cmap = 'Spectral_r',\n",
    "            extent = (t_star[0], t_star[-1], 0, x_star.shape[0]) )\n",
    "plt.clim( -8, 8 )"
   ]
  },
  {
   "cell_type": "code",
   "execution_count": null,
   "metadata": {},
   "outputs": [],
   "source": [
    "plt.figure( figsize = (48, 5) )\n",
    "plt.plot( t_star, x_star[0, :], 'k-' )\n",
    "plt.xlim( 2500, 2550 )\n",
    "plt.show()"
   ]
  },
  {
   "cell_type": "code",
   "execution_count": null,
   "metadata": {},
   "outputs": [],
   "source": [
    "plt.figure( figsize = (12, 5) )\n",
    "plt.plot( t_star, a_star.T )\n",
    "plt.show()"
   ]
  },
  {
   "cell_type": "code",
   "execution_count": null,
   "metadata": {},
   "outputs": [],
   "source": [
    "c = np.corrcoef( a_star )"
   ]
  },
  {
   "cell_type": "code",
   "execution_count": null,
   "metadata": {},
   "outputs": [],
   "source": [
    "plt.imshow( c )\n",
    "plt.clim( -1, 1 )"
   ]
  },
  {
   "cell_type": "code",
   "execution_count": null,
   "metadata": {},
   "outputs": [],
   "source": [
    "cx = np.corrcoef( x_star )"
   ]
  },
  {
   "cell_type": "code",
   "execution_count": null,
   "metadata": {},
   "outputs": [],
   "source": [
    "plt.imshow( cx )\n",
    "plt.clim( -1, 1 )"
   ]
  },
  {
   "cell_type": "code",
   "execution_count": null,
   "metadata": {},
   "outputs": [],
   "source": [
    "corrs = []\n",
    "for i in range( cx.shape[0] ):\n",
    "    for j in range( i+1, cx.shape[1] ):\n",
    "        corrs.append( cx[i,j] )\n",
    "corrs = np.array( corrs )"
   ]
  },
  {
   "cell_type": "code",
   "execution_count": null,
   "metadata": {},
   "outputs": [],
   "source": [
    "np.median( np.abs( corrs ) )"
   ]
  },
  {
   "cell_type": "code",
   "execution_count": null,
   "metadata": {},
   "outputs": [],
   "source": []
  }
 ],
 "metadata": {
  "kernelspec": {
   "display_name": "Python 3",
   "language": "python",
   "name": "python3"
  },
  "language_info": {
   "codemirror_mode": {
    "name": "ipython",
    "version": 3
   },
   "file_extension": ".py",
   "mimetype": "text/x-python",
   "name": "python",
   "nbconvert_exporter": "python",
   "pygments_lexer": "ipython3",
   "version": "3.7.1"
  }
 },
 "nbformat": 4,
 "nbformat_minor": 2
}
