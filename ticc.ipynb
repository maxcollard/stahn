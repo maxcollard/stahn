{
 "cells": [
  {
   "cell_type": "code",
   "execution_count": 1,
   "metadata": {},
   "outputs": [],
   "source": [
    "import numpy as np\n",
    "import scipy.integrate\n",
    "import matplotlib.pyplot as plt\n",
    "%matplotlib inline"
   ]
  },
  {
   "cell_type": "code",
   "execution_count": null,
   "metadata": {},
   "outputs": [
    {
     "name": "stderr",
     "output_type": "stream",
     "text": [
      "/data2/projects/git/stahn/TICC/TICC_solver.py:4: UserWarning: matplotlib.pyplot as already been imported, this call will have no effect.\n",
      "  matplotlib.use('Agg')\n"
     ]
    },
    {
     "name": "stdout",
     "output_type": "stream",
     "text": [
      "lam_sparse 0.11\n",
      "switch_penalty 600\n",
      "num_cluster 8\n",
      "num stacked 100\n",
      "completed getting the data\n"
     ]
    },
    {
     "name": "stderr",
     "output_type": "stream",
     "text": [
      "/anaconda/envs/py35/lib/python3.5/site-packages/sklearn/mixture/_base.py:267: ConvergenceWarning: Initialization 1 did not converge. Try different init parameters, or increase max_iter, tol or check for degenerate data.\n",
      "  % (init + 1), ConvergenceWarning)\n"
     ]
    },
    {
     "name": "stdout",
     "output_type": "stream",
     "text": [
      "\n",
      "\n",
      "\n",
      "ITERATION ### 0\n"
     ]
    }
   ],
   "source": [
    "from TICC.TICC_solver import TICC\n",
    "\n",
    "ticc = TICC( window_size = 100,\n",
    "             number_of_clusters = 8,\n",
    "             lambda_parameter = 11e-2,\n",
    "             beta = 600,\n",
    "             maxIters = 100,\n",
    "             threshold = 2e-5,\n",
    "             write_out_file = False,\n",
    "             prefix_string = \"output_folder/\",\n",
    "             num_proc = 7 )\n",
    "(cluster_assignment, cluster_MRFs) = ticc.fit( input_file = 'data/test-run-xs.txt' )"
   ]
  },
  {
   "cell_type": "code",
   "execution_count": null,
   "metadata": {},
   "outputs": [],
   "source": []
  }
 ],
 "metadata": {
  "kernelspec": {
   "display_name": "Python 3.5",
   "language": "python",
   "name": "python3"
  },
  "language_info": {
   "codemirror_mode": {
    "name": "ipython",
    "version": 3
   },
   "file_extension": ".py",
   "mimetype": "text/x-python",
   "name": "python",
   "nbconvert_exporter": "python",
   "pygments_lexer": "ipython3",
   "version": "3.5.6"
  }
 },
 "nbformat": 4,
 "nbformat_minor": 4
}
