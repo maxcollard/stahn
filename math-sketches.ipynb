{
 "cells": [
  {
   "cell_type": "markdown",
   "metadata": {},
   "source": [
    "# Polar coordinates\n",
    "\n",
    "No astrocytes:\n",
    "\n",
    "$$\n",
    "\\begin{eqnarray*}\n",
    "    \\dot{r_i} & = & r_i(\\lambda_i + b_i r_i^2) + \\sum_k W_{ik}^{(r)} r_k \\left[ \\cos\\left(W_{ik}^{(\\theta)}\\right) \\cos\\left(\\theta_k - \\theta_i\\right) + \\sin\\left(W_{ik}^{(\\theta)}\\right) \\sin\\left(\\theta_k - \\theta_i\\right) \\right] \\\\\n",
    "    \\dot{\\theta_i} & = & 1 + \\frac{\\sum_k W_{ik}^{(r)} r_k \\left[ \\cos\\left(W_{ik}^{(\\theta)}\\right) \\sin\\left(\\theta_k - \\theta_i\\right) + \\sin\\left(W_{ik}^{(\\theta)}\\right) \\cos\\left(\\theta_k - \\theta_i\\right) \\right]}{r_i} \\\\\n",
    "    \\dot{W}_{ij}^{(r)} & = & \\cos\\left(W_{ij}^{(\\theta)}\\right)\\left(\\alpha \\delta_{ij} - r_i r_j \\cos\\left(\\theta_j - \\theta_i\\right)\\right) + \\sin\\left(W_{ij}^{(\\theta)}\\right) r_i r_j \\sin\\left(\\theta_j - \\theta_i\\right) \\\\\n",
    "    \\dot{W}_{ij}^{(\\theta)} & = & \\frac{\\cos\\left(W_{ij}^{(\\theta)}\\right) r_i r_j \\sin\\left(\\theta_j - \\theta_i\\right) - \\sin\\left(W_{ij}^{(\\theta)}\\right)\\left(\\alpha \\delta_{ij} - r_i r_j \\cos\\left(\\theta_j - \\theta_i\\right)\\right)}{W_{ij}^{(r)}}\n",
    "\\end{eqnarray*}\n",
    "$$"
   ]
  }
 ],
 "metadata": {
  "kernelspec": {
   "display_name": "Python 3",
   "language": "python",
   "name": "python3"
  },
  "language_info": {
   "codemirror_mode": {
    "name": "ipython",
    "version": 3
   },
   "file_extension": ".py",
   "mimetype": "text/x-python",
   "name": "python",
   "nbconvert_exporter": "python",
   "pygments_lexer": "ipython3",
   "version": "3.7.1"
  }
 },
 "nbformat": 4,
 "nbformat_minor": 2
}
