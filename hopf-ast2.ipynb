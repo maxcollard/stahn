{
 "cells": [
  {
   "cell_type": "markdown",
   "metadata": {},
   "source": [
    "# Many with astrocytes\n",
    "\n",
    "Let $A_i$ denote an $N_z$ by $N_z$ matrix encoding the synaptic connections controlled by astrocyte $i$.\n",
    "\n",
    "$$\n",
    "\\begin{eqnarray*}\n",
    "    \\dot{z_i} & = & z_i ( (\\lambda_i + \\mathrm{i}) + b_i |z_i|^2) + \\sum_k W_{ik} z_k \\\\\n",
    "    \\dot{a_i} & = & \\theta \\left(\\left(\\frac{1}{N_a} \\sum_k a_k\\right) - a_i\\right) + \\varphi \\left( \\sum_k B_{ik} |z_k| \\right) - \\kappa a_i \\\\\n",
    "    \\dot{W} & = & \\left\\{\\alpha\\left( I_{N_z} - \\mathbf{z} \\bar{\\mathbf{z}}^\\top \\right)\\right\\}_? - \\beta\\left( \\sum_k a_k A^{(k)} \\right) \\circ W\n",
    "\\end{eqnarray*}\n",
    "$$"
   ]
  },
  {
   "cell_type": "code",
   "execution_count": 15,
   "metadata": {},
   "outputs": [],
   "source": [
    "import numpy as np\n",
    "import scipy.integrate\n",
    "import matplotlib.pyplot as plt"
   ]
  },
  {
   "cell_type": "code",
   "execution_count": 16,
   "metadata": {},
   "outputs": [],
   "source": [
    "Nz = 20\n",
    "Na = 20\n",
    "\n",
    "# Hopf oscillator characteristics\n",
    "l = np.random.randn( Nz )\n",
    "# TODO Should the Lyopunov exponent vary across oscillators?\n",
    "b = -0.1 + np.random.randn( Nz ) * 1.j\n",
    "\n",
    "alpha = 0.1 # 0.001 # 0.1\n",
    "beta = 0.0001\n",
    "\n",
    "theta = 0.0001\n",
    "phi = 0.01\n",
    "kappa = 0.01"
   ]
  },
  {
   "cell_type": "code",
   "execution_count": 17,
   "metadata": {},
   "outputs": [],
   "source": [
    "A = []\n",
    "for i in range( Na ):\n",
    "    A.append( np.random.exponential( size = (Nz, Nz) ) )\n",
    "    \n",
    "B = np.zeros( (Na, Nz) )\n",
    "for i in range( Na ):\n",
    "    for k in range( Nz ):\n",
    "        B[i, k] = np.sum( A[i][:, k] )"
   ]
  },
  {
   "cell_type": "code",
   "execution_count": 18,
   "metadata": {},
   "outputs": [
    {
     "data": {
      "text/plain": [
       "<matplotlib.colorbar.Colorbar at 0x1a5334e48>"
      ]
     },
     "execution_count": 18,
     "metadata": {},
     "output_type": "execute_result"
    },
    {
     "data": {
      "image/png": "[encoded data removed]",
      "text/plain": [
       "<Figure size 432x288 with 2 Axes>"
      ]
     },
     "metadata": {
      "needs_background": "light"
     },
     "output_type": "display_data"
    }
   ],
   "source": [
    "plt.imshow( B )\n",
    "plt.clim( 0, 30 )\n",
    "plt.colorbar()"
   ]
  },
  {
   "cell_type": "code",
   "execution_count": 19,
   "metadata": {},
   "outputs": [],
   "source": [
    "def deriv( t, y ):\n",
    "    \n",
    "    z = y[:Nz]\n",
    "    a = y[Nz:(Nz+Na)]\n",
    "    W = np.reshape( y[(Nz+Na):], (Nz, Nz) )\n",
    "    \n",
    "    z_dot = np.zeros( z.shape[0], dtype = np.complex )\n",
    "    for i in range( z_dot.shape[0] ):\n",
    "        z_dot[i] = z[i] * ( ( l[i] + 1.j ) + b[i] * z[i] * np.conj( z[i] ) )\n",
    "        for k in range( z_dot.shape[0] ):\n",
    "#             if k == i:\n",
    "#                 continue\n",
    "#             z_dot[i] += W[i, k] * np.real( z[k] )\n",
    "            z_dot[i] += W[i, k] * z[k]\n",
    "    \n",
    "    a_dot = np.zeros( a.shape[0], dtype = np.complex )\n",
    "    a_bar = (1. / a.shape[0]) * np.sum( a )\n",
    "    for i in range( a_dot.shape[0] ):\n",
    "        a_dot[i] = theta * (a_bar - a[i])\n",
    "        for k in range( z_dot.shape[0] ):\n",
    "            a_dot[i] += phi * B[i, k] * np.abs( z[k] )\n",
    "    a_dot -= kappa * a\n",
    "    \n",
    "#     W_dot = alpha * ( np.eye( Nz ) - np.outer( np.real( z ), np.real( z ) ) )\n",
    "    W_dot = alpha * ( np.eye( Nz ) - np.outer( z, np.conj( z ) ) )\n",
    "#     W_dot = np.zeros( (Nz, Nz), dtype = np.complex )\n",
    "    for k in range( a_dot.shape[0] ):\n",
    "        W_dot -= beta * ( a[k] * A[k] ) * W\n",
    "    \n",
    "    y_dot = np.zeros( y.shape[0], dtype = np.complex )\n",
    "    y_dot[:Nz] = z_dot\n",
    "    y_dot[Nz:(Nz+Na)] = a_dot\n",
    "    y_dot[(Nz+Na):] = W_dot.flatten()\n",
    "    \n",
    "    return y_dot"
   ]
  },
  {
   "cell_type": "code",
   "execution_count": 20,
   "metadata": {},
   "outputs": [],
   "source": [
    "t_span = [0, 5e3]\n",
    "t_eval = np.arange( t_span[0], t_span[-1], 5e-2 )"
   ]
  },
  {
   "cell_type": "code",
   "execution_count": 21,
   "metadata": {},
   "outputs": [],
   "source": [
    "# TODO Randomize the z0 in an intelligent way\n",
    "z0 = np.zeros( (Nz,), dtype = np.complex )\n",
    "for i in range( z0.shape[0] ):\n",
    "    z0[i] = 0.01 + 0.j\n",
    "    \n",
    "# TODO Randomize the a0 in an intelligent way\n",
    "a0 = np.random.exponential( size = (Na,) )\n",
    "    \n",
    "W0 = np.random.randn( Nz, Nz ) + np.random.randn( Nz, Nz ) * 1.j"
   ]
  },
  {
   "cell_type": "code",
   "execution_count": 22,
   "metadata": {},
   "outputs": [],
   "source": [
    "y0 = np.zeros( (Nz + Na + Nz*Nz,), dtype = np.complex )\n",
    "y0[:Nz] = z0\n",
    "y0[Nz:(Nz+Na)] = a0\n",
    "y0[(Nz+Na):] = W0.flatten()"
   ]
  },
  {
   "cell_type": "code",
   "execution_count": null,
   "metadata": {},
   "outputs": [],
   "source": [
    "sol = scipy.integrate.solve_ivp( deriv, t_span, y0,\n",
    "                                 t_eval = t_eval,\n",
    "                                 method = 'BDF' )"
   ]
  },
  {
   "cell_type": "code",
   "execution_count": null,
   "metadata": {},
   "outputs": [],
   "source": [
    "t_star = sol.t\n",
    "y_star = sol.y\n",
    "\n",
    "z_star = y_star[:Nz, :]\n",
    "a_star = y_star[Nz:(Nz+Na), :]\n",
    "W_star = np.reshape( y_star[(Nz+Na):, :], (Nz, Nz, y_star.shape[1]) )"
   ]
  },
  {
   "cell_type": "code",
   "execution_count": null,
   "metadata": {},
   "outputs": [],
   "source": [
    "plt.figure( figsize = (48, 6) )\n",
    "plt.imshow( np.real( a_star ), aspect = 'auto',\n",
    "            vmin = np.quantile( np.real( a_star ), 0.01 ),\n",
    "            vmax = np.quantile( np.real( a_star ), 0.99 ) )"
   ]
  },
  {
   "cell_type": "code",
   "execution_count": null,
   "metadata": {},
   "outputs": [],
   "source": [
    "plt.plot( np.real( a_star ).T )"
   ]
  },
  {
   "cell_type": "code",
   "execution_count": null,
   "metadata": {},
   "outputs": [],
   "source": [
    "plt.figure( figsize = (48, 6) )\n",
    "plt.imshow( np.real( z_star ), aspect = 'auto',\n",
    "            vmin = np.quantile( np.real( z_star ), 0.01 ),\n",
    "            vmax = np.quantile( np.real( z_star ), 0.99 ) )"
   ]
  },
  {
   "cell_type": "code",
   "execution_count": null,
   "metadata": {},
   "outputs": [],
   "source": [
    "plt.plot( np.real( y_star[(Nz+Na):, :] ).T )\n",
    "plt.show()"
   ]
  },
  {
   "cell_type": "code",
   "execution_count": null,
   "metadata": {},
   "outputs": [],
   "source": []
  }
 ],
 "metadata": {
  "kernelspec": {
   "display_name": "Python 3",
   "language": "python",
   "name": "python3"
  },
  "language_info": {
   "codemirror_mode": {
    "name": "ipython",
    "version": 3
   },
   "file_extension": ".py",
   "mimetype": "text/x-python",
   "name": "python",
   "nbconvert_exporter": "python",
   "pygments_lexer": "ipython3",
   "version": "3.7.1"
  }
 },
 "nbformat": 4,
 "nbformat_minor": 2
}
